{
  "nbformat": 4,
  "nbformat_minor": 0,
  "metadata": {
    "colab": {
      "name": "kmeans.ipynb",
      "provenance": [],
      "collapsed_sections": [],
      "toc_visible": true,
      "authorship_tag": "ABX9TyNylgFU/CCdWNsOYbgDR9AP",
      "include_colab_link": true
    },
    "kernelspec": {
      "name": "python3",
      "display_name": "Python 3"
    }
  },
  "cells": [
    {
      "cell_type": "markdown",
      "metadata": {
        "id": "view-in-github",
        "colab_type": "text"
      },
      "source": [
        "<a href=\"https://colab.research.google.com/github/kaiyanl/color-game/blob/master/kmeans.ipynb\" target=\"_parent\"><img src=\"https://colab.research.google.com/assets/colab-badge.svg\" alt=\"Open In Colab\"/></a>"
      ]
    },
    {
      "cell_type": "code",
      "metadata": {
        "id": "ZRBIuUjH_7DO"
      },
      "source": [
        "from sklearn.cluster import MiniBatchKMeans\r\n",
        "from sklearn import preprocessing\r\n",
        "import pandas as pd\r\n",
        "import numpy as np\r\n",
        "import time"
      ],
      "execution_count": null,
      "outputs": []
    },
    {
      "cell_type": "code",
      "metadata": {
        "colab": {
          "base_uri": "https://localhost:8080/",
          "height": 206
        },
        "id": "a5Bmqxz_BSqL",
        "outputId": "598b131f-dd25-47af-e514-337c3f527752"
      },
      "source": [
        "df = pd.read_csv(\"data_yuba.csv\")\r\n",
        "df.head()"
      ],
      "execution_count": null,
      "outputs": [
        {
          "output_type": "execute_result",
          "data": {
            "text/html": [
              "<div>\n",
              "<style scoped>\n",
              "    .dataframe tbody tr th:only-of-type {\n",
              "        vertical-align: middle;\n",
              "    }\n",
              "\n",
              "    .dataframe tbody tr th {\n",
              "        vertical-align: top;\n",
              "    }\n",
              "\n",
              "    .dataframe thead th {\n",
              "        text-align: right;\n",
              "    }\n",
              "</style>\n",
              "<table border=\"1\" class=\"dataframe\">\n",
              "  <thead>\n",
              "    <tr style=\"text-align: right;\">\n",
              "      <th></th>\n",
              "      <th>x</th>\n",
              "      <th>y</th>\n",
              "      <th>elevation</th>\n",
              "    </tr>\n",
              "  </thead>\n",
              "  <tbody>\n",
              "    <tr>\n",
              "      <th>0</th>\n",
              "      <td>-2102562.426</td>\n",
              "      <td>2124824.36</td>\n",
              "      <td>1192.543701</td>\n",
              "    </tr>\n",
              "    <tr>\n",
              "      <th>1</th>\n",
              "      <td>-2102622.426</td>\n",
              "      <td>2124794.36</td>\n",
              "      <td>1221.982178</td>\n",
              "    </tr>\n",
              "    <tr>\n",
              "      <th>2</th>\n",
              "      <td>-2102592.426</td>\n",
              "      <td>2124794.36</td>\n",
              "      <td>1215.901611</td>\n",
              "    </tr>\n",
              "    <tr>\n",
              "      <th>3</th>\n",
              "      <td>-2102562.426</td>\n",
              "      <td>2124794.36</td>\n",
              "      <td>1210.224976</td>\n",
              "    </tr>\n",
              "    <tr>\n",
              "      <th>4</th>\n",
              "      <td>-2102712.426</td>\n",
              "      <td>2124764.36</td>\n",
              "      <td>1228.435181</td>\n",
              "    </tr>\n",
              "  </tbody>\n",
              "</table>\n",
              "</div>"
            ],
            "text/plain": [
              "             x           y    elevation\n",
              "0 -2102562.426  2124824.36  1192.543701\n",
              "1 -2102622.426  2124794.36  1221.982178\n",
              "2 -2102592.426  2124794.36  1215.901611\n",
              "3 -2102562.426  2124794.36  1210.224976\n",
              "4 -2102712.426  2124764.36  1228.435181"
            ]
          },
          "metadata": {
            "tags": []
          },
          "execution_count": 2
        }
      ]
    },
    {
      "cell_type": "code",
      "metadata": {
        "colab": {
          "base_uri": "https://localhost:8080/"
        },
        "id": "CL5nSlAbB_A-",
        "outputId": "4300c4ee-e2ca-4444-b887-104d1e4c54e0"
      },
      "source": [
        "standard_scaler = preprocessing.StandardScaler()\r\n",
        "stand_df = standard_scaler.fit_transform(df)\r\n",
        "stand_df[:5]"
      ],
      "execution_count": null,
      "outputs": [
        {
          "output_type": "execute_result",
          "data": {
            "text/plain": [
              "array([[2.27631206, 2.49629947, 1.8965361 ],\n",
              "       [2.2695087 , 2.49196956, 2.02318001],\n",
              "       [2.27291038, 2.49196956, 1.9970215 ],\n",
              "       [2.27631206, 2.49196956, 1.97260069],\n",
              "       [2.25930365, 2.48763966, 2.05094073]])"
            ]
          },
          "metadata": {
            "tags": []
          },
          "execution_count": 3
        }
      ]
    },
    {
      "cell_type": "code",
      "metadata": {
        "colab": {
          "base_uri": "https://localhost:8080/"
        },
        "id": "DDiXsYz5BIu2",
        "outputId": "a290d07d-8e56-4e7f-cef4-75eda89de372"
      },
      "source": [
        "k = len(stand_df)//100 # average 22 acres per cluster\r\n",
        "print()\r\n",
        "print(\"k = \", k)\r\n",
        "print('MiniBatchKMeans...')\r\n",
        "start = time.time()\r\n",
        "# print('start at %s' %time.ctime(t1))\r\n",
        "km = MiniBatchKMeans(n_clusters=k, init_size=k)\r\n",
        "km.fit(stand_df)\r\n",
        "end = time.time()\r\n",
        "# print('end at %s' %time.ctime(t2))\r\n",
        "process_time = (end-start) / 60\r\n",
        "print(\"finish MiniBatchKMeans fitting, which takes %s minutes\" %process_time)"
      ],
      "execution_count": null,
      "outputs": [
        {
          "output_type": "stream",
          "text": [
            "\n",
            "k =  6464\n",
            "MiniBatchKMeans...\n",
            "finish MiniBatchKMeans fitting, which takes 1.1458844025929769 minutes\n"
          ],
          "name": "stdout"
        }
      ]
    },
    {
      "cell_type": "code",
      "metadata": {
        "id": "IxzcsUkAxxVs",
        "colab": {
          "base_uri": "https://localhost:8080/",
          "height": 206
        },
        "outputId": "d02c67ba-ca66-49cd-c138-5abe2d801f6f"
      },
      "source": [
        "df = pd.read_csv(\"data_4county.csv\")\r\n",
        "df.head()"
      ],
      "execution_count": null,
      "outputs": [
        {
          "output_type": "execute_result",
          "data": {
            "text/html": [
              "<div>\n",
              "<style scoped>\n",
              "    .dataframe tbody tr th:only-of-type {\n",
              "        vertical-align: middle;\n",
              "    }\n",
              "\n",
              "    .dataframe tbody tr th {\n",
              "        vertical-align: top;\n",
              "    }\n",
              "\n",
              "    .dataframe thead th {\n",
              "        text-align: right;\n",
              "    }\n",
              "</style>\n",
              "<table border=\"1\" class=\"dataframe\">\n",
              "  <thead>\n",
              "    <tr style=\"text-align: right;\">\n",
              "      <th></th>\n",
              "      <th>Unnamed: 0</th>\n",
              "      <th>fl_ele_wild_nps_ex_mask</th>\n",
              "      <th>x</th>\n",
              "      <th>y</th>\n",
              "      <th>df.ele.curr_county$NAME</th>\n",
              "    </tr>\n",
              "  </thead>\n",
              "  <tbody>\n",
              "    <tr>\n",
              "      <th>0</th>\n",
              "      <td>14849232</td>\n",
              "      <td>2144.522705</td>\n",
              "      <td>-2.087202e+06</td>\n",
              "      <td>2.136644e+06</td>\n",
              "      <td>Sierra</td>\n",
              "    </tr>\n",
              "    <tr>\n",
              "      <th>1</th>\n",
              "      <td>14849233</td>\n",
              "      <td>2143.986084</td>\n",
              "      <td>-2.087172e+06</td>\n",
              "      <td>2.136644e+06</td>\n",
              "      <td>Sierra</td>\n",
              "    </tr>\n",
              "    <tr>\n",
              "      <th>2</th>\n",
              "      <td>14853762</td>\n",
              "      <td>2143.076416</td>\n",
              "      <td>-2.087412e+06</td>\n",
              "      <td>2.136614e+06</td>\n",
              "      <td>Sierra</td>\n",
              "    </tr>\n",
              "    <tr>\n",
              "      <th>3</th>\n",
              "      <td>14853763</td>\n",
              "      <td>2145.284912</td>\n",
              "      <td>-2.087382e+06</td>\n",
              "      <td>2.136614e+06</td>\n",
              "      <td>Sierra</td>\n",
              "    </tr>\n",
              "    <tr>\n",
              "      <th>4</th>\n",
              "      <td>14853764</td>\n",
              "      <td>2146.483398</td>\n",
              "      <td>-2.087352e+06</td>\n",
              "      <td>2.136614e+06</td>\n",
              "      <td>Sierra</td>\n",
              "    </tr>\n",
              "  </tbody>\n",
              "</table>\n",
              "</div>"
            ],
            "text/plain": [
              "   Unnamed: 0  fl_ele_wild_nps_ex_mask  ...             y  df.ele.curr_county$NAME\n",
              "0    14849232              2144.522705  ...  2.136644e+06                   Sierra\n",
              "1    14849233              2143.986084  ...  2.136644e+06                   Sierra\n",
              "2    14853762              2143.076416  ...  2.136614e+06                   Sierra\n",
              "3    14853763              2145.284912  ...  2.136614e+06                   Sierra\n",
              "4    14853764              2146.483398  ...  2.136614e+06                   Sierra\n",
              "\n",
              "[5 rows x 5 columns]"
            ]
          },
          "metadata": {
            "tags": []
          },
          "execution_count": 5
        }
      ]
    },
    {
      "cell_type": "code",
      "metadata": {
        "id": "fvpN1Ix7ywDZ",
        "colab": {
          "base_uri": "https://localhost:8080/",
          "height": 206
        },
        "outputId": "f2745868-2cfd-4025-b91d-e8f6a9e2adf5"
      },
      "source": [
        "df = df.loc[:, ~df.columns.str.contains('^Unnamed')]\r\n",
        "df.drop('df.ele.curr_county$NAME', axis=1, inplace=True)\r\n",
        "df.rename({'fl_ele_wild_nps_ex_mask': 'elevation'}, axis=1, inplace=True)\r\n",
        "df.head()"
      ],
      "execution_count": null,
      "outputs": [
        {
          "output_type": "execute_result",
          "data": {
            "text/html": [
              "<div>\n",
              "<style scoped>\n",
              "    .dataframe tbody tr th:only-of-type {\n",
              "        vertical-align: middle;\n",
              "    }\n",
              "\n",
              "    .dataframe tbody tr th {\n",
              "        vertical-align: top;\n",
              "    }\n",
              "\n",
              "    .dataframe thead th {\n",
              "        text-align: right;\n",
              "    }\n",
              "</style>\n",
              "<table border=\"1\" class=\"dataframe\">\n",
              "  <thead>\n",
              "    <tr style=\"text-align: right;\">\n",
              "      <th></th>\n",
              "      <th>elevation</th>\n",
              "      <th>x</th>\n",
              "      <th>y</th>\n",
              "    </tr>\n",
              "  </thead>\n",
              "  <tbody>\n",
              "    <tr>\n",
              "      <th>0</th>\n",
              "      <td>2144.522705</td>\n",
              "      <td>-2.087202e+06</td>\n",
              "      <td>2.136644e+06</td>\n",
              "    </tr>\n",
              "    <tr>\n",
              "      <th>1</th>\n",
              "      <td>2143.986084</td>\n",
              "      <td>-2.087172e+06</td>\n",
              "      <td>2.136644e+06</td>\n",
              "    </tr>\n",
              "    <tr>\n",
              "      <th>2</th>\n",
              "      <td>2143.076416</td>\n",
              "      <td>-2.087412e+06</td>\n",
              "      <td>2.136614e+06</td>\n",
              "    </tr>\n",
              "    <tr>\n",
              "      <th>3</th>\n",
              "      <td>2145.284912</td>\n",
              "      <td>-2.087382e+06</td>\n",
              "      <td>2.136614e+06</td>\n",
              "    </tr>\n",
              "    <tr>\n",
              "      <th>4</th>\n",
              "      <td>2146.483398</td>\n",
              "      <td>-2.087352e+06</td>\n",
              "      <td>2.136614e+06</td>\n",
              "    </tr>\n",
              "  </tbody>\n",
              "</table>\n",
              "</div>"
            ],
            "text/plain": [
              "     elevation             x             y\n",
              "0  2144.522705 -2.087202e+06  2.136644e+06\n",
              "1  2143.986084 -2.087172e+06  2.136644e+06\n",
              "2  2143.076416 -2.087412e+06  2.136614e+06\n",
              "3  2145.284912 -2.087382e+06  2.136614e+06\n",
              "4  2146.483398 -2.087352e+06  2.136614e+06"
            ]
          },
          "metadata": {
            "tags": []
          },
          "execution_count": 6
        }
      ]
    },
    {
      "cell_type": "code",
      "metadata": {
        "colab": {
          "base_uri": "https://localhost:8080/"
        },
        "id": "QpB4oeEBztxb",
        "outputId": "20a0ff5f-0190-4d11-f89f-fa6e158bb8b8"
      },
      "source": [
        "df.shape"
      ],
      "execution_count": null,
      "outputs": [
        {
          "output_type": "execute_result",
          "data": {
            "text/plain": [
              "(8165019, 3)"
            ]
          },
          "metadata": {
            "tags": []
          },
          "execution_count": 7
        }
      ]
    },
    {
      "cell_type": "code",
      "metadata": {
        "colab": {
          "base_uri": "https://localhost:8080/"
        },
        "id": "H-B1cold2v9D",
        "outputId": "bf030380-f490-45b2-9a37-654226b49ccd"
      },
      "source": [
        "standard_scaler = preprocessing.StandardScaler()\r\n",
        "stand_df = standard_scaler.fit_transform(df)\r\n",
        "stand_df[:5]"
      ],
      "execution_count": null,
      "outputs": [
        {
          "output_type": "execute_result",
          "data": {
            "text/plain": [
              "array([[ 1.15753333, -0.19569884,  2.34314306],\n",
              "       [ 1.15661392, -0.19469164,  2.34314306],\n",
              "       [ 1.15505535, -0.20274924,  2.34173435],\n",
              "       [ 1.15883926, -0.20174204,  2.34173435],\n",
              "       [ 1.16089267, -0.20073484,  2.34173435]])"
            ]
          },
          "metadata": {
            "tags": []
          },
          "execution_count": 8
        }
      ]
    },
    {
      "cell_type": "code",
      "metadata": {
        "colab": {
          "base_uri": "https://localhost:8080/"
        },
        "id": "MMGVWHZQ3Nb2",
        "outputId": "6ba85c44-8822-4c93-b7f2-75422da2ffe0"
      },
      "source": [
        "k = len(stand_df)//100 # average 22 acres per cluster\r\n",
        "print()\r\n",
        "print(\"k = \", k)\r\n",
        "print('MiniBatchKMeans...')\r\n",
        "start = time.time()\r\n",
        "print('start at %s' %time.ctime(start))\r\n",
        "km = MiniBatchKMeans(n_clusters=k, init_size=k)\r\n",
        "km.fit(stand_df)\r\n",
        "end = time.time()\r\n",
        "print('end at %s' %time.ctime(end))\r\n",
        "process_time = (end-start) / 60\r\n",
        "print(\"finish MiniBatchKMeans fitting, which takes %s minutes\" %process_time)"
      ],
      "execution_count": 10,
      "outputs": [
        {
          "output_type": "stream",
          "text": [
            "\n",
            "k =  81650\n",
            "MiniBatchKMeans...\n",
            "start at Tue Dec 15 19:44:20 2020\n",
            "end at Tue Dec 15 22:45:32 2020\n",
            "finish MiniBatchKMeans fitting, which takes 181.19859640200931 minutes\n"
          ],
          "name": "stdout"
        }
      ]
    }
  ]
}